{
  "nbformat": 4,
  "nbformat_minor": 0,
  "metadata": {
    "colab": {
      "provenance": [],
      "machine_shape": "hm",
      "gpuType": "L4"
    },
    "kernelspec": {
      "name": "python3",
      "display_name": "Python 3"
    },
    "language_info": {
      "name": "python"
    },
    "accelerator": "GPU",
    "widgets": {
      "application/vnd.jupyter.widget-state+json": {
        "d6b80be975564d3782184f66c5a3c5d8": {
          "model_module": "@jupyter-widgets/controls",
          "model_name": "HBoxModel",
          "model_module_version": "1.5.0",
          "state": {
            "_dom_classes": [],
            "_model_module": "@jupyter-widgets/controls",
            "_model_module_version": "1.5.0",
            "_model_name": "HBoxModel",
            "_view_count": null,
            "_view_module": "@jupyter-widgets/controls",
            "_view_module_version": "1.5.0",
            "_view_name": "HBoxView",
            "box_style": "",
            "children": [
              "IPY_MODEL_f93e461f96eb4b2690bd006509724f78",
              "IPY_MODEL_fc72a6bd9632432abdeb3f81901afe54",
              "IPY_MODEL_9e8fd031b1f9424bb5c3c7a16dba7e3e"
            ],
            "layout": "IPY_MODEL_f5eb6bd19b1647d9bc7ddb1ef1b5a0d3"
          }
        },
        "f93e461f96eb4b2690bd006509724f78": {
          "model_module": "@jupyter-widgets/controls",
          "model_name": "HTMLModel",
          "model_module_version": "1.5.0",
          "state": {
            "_dom_classes": [],
            "_model_module": "@jupyter-widgets/controls",
            "_model_module_version": "1.5.0",
            "_model_name": "HTMLModel",
            "_view_count": null,
            "_view_module": "@jupyter-widgets/controls",
            "_view_module_version": "1.5.0",
            "_view_name": "HTMLView",
            "description": "",
            "description_tooltip": null,
            "layout": "IPY_MODEL_b80f391b9c7b4832965cd4d4df5a5235",
            "placeholder": "​",
            "style": "IPY_MODEL_54b2acf1cd834958be22cec1ee89b3bd",
            "value": "Generating train split: "
          }
        },
        "fc72a6bd9632432abdeb3f81901afe54": {
          "model_module": "@jupyter-widgets/controls",
          "model_name": "FloatProgressModel",
          "model_module_version": "1.5.0",
          "state": {
            "_dom_classes": [],
            "_model_module": "@jupyter-widgets/controls",
            "_model_module_version": "1.5.0",
            "_model_name": "FloatProgressModel",
            "_view_count": null,
            "_view_module": "@jupyter-widgets/controls",
            "_view_module_version": "1.5.0",
            "_view_name": "ProgressView",
            "bar_style": "success",
            "description": "",
            "description_tooltip": null,
            "layout": "IPY_MODEL_e7896f87a5154898922c77f7fa592bf0",
            "max": 1,
            "min": 0,
            "orientation": "horizontal",
            "style": "IPY_MODEL_39814f5eea3d4529ba21de0fee2c39cc",
            "value": 1
          }
        },
        "9e8fd031b1f9424bb5c3c7a16dba7e3e": {
          "model_module": "@jupyter-widgets/controls",
          "model_name": "HTMLModel",
          "model_module_version": "1.5.0",
          "state": {
            "_dom_classes": [],
            "_model_module": "@jupyter-widgets/controls",
            "_model_module_version": "1.5.0",
            "_model_name": "HTMLModel",
            "_view_count": null,
            "_view_module": "@jupyter-widgets/controls",
            "_view_module_version": "1.5.0",
            "_view_name": "HTMLView",
            "description": "",
            "description_tooltip": null,
            "layout": "IPY_MODEL_c1ae7733222a4191a59cd3d930dc433f",
            "placeholder": "​",
            "style": "IPY_MODEL_ee1f54aaa74344a9ae49c7f2b96f0f23",
            "value": " 143327/0 [00:00&lt;00:00, 235806.67 examples/s]"
          }
        },
        "f5eb6bd19b1647d9bc7ddb1ef1b5a0d3": {
          "model_module": "@jupyter-widgets/base",
          "model_name": "LayoutModel",
          "model_module_version": "1.2.0",
          "state": {
            "_model_module": "@jupyter-widgets/base",
            "_model_module_version": "1.2.0",
            "_model_name": "LayoutModel",
            "_view_count": null,
            "_view_module": "@jupyter-widgets/base",
            "_view_module_version": "1.2.0",
            "_view_name": "LayoutView",
            "align_content": null,
            "align_items": null,
            "align_self": null,
            "border": null,
            "bottom": null,
            "display": null,
            "flex": null,
            "flex_flow": null,
            "grid_area": null,
            "grid_auto_columns": null,
            "grid_auto_flow": null,
            "grid_auto_rows": null,
            "grid_column": null,
            "grid_gap": null,
            "grid_row": null,
            "grid_template_areas": null,
            "grid_template_columns": null,
            "grid_template_rows": null,
            "height": null,
            "justify_content": null,
            "justify_items": null,
            "left": null,
            "margin": null,
            "max_height": null,
            "max_width": null,
            "min_height": null,
            "min_width": null,
            "object_fit": null,
            "object_position": null,
            "order": null,
            "overflow": null,
            "overflow_x": null,
            "overflow_y": null,
            "padding": null,
            "right": null,
            "top": null,
            "visibility": null,
            "width": null
          }
        },
        "b80f391b9c7b4832965cd4d4df5a5235": {
          "model_module": "@jupyter-widgets/base",
          "model_name": "LayoutModel",
          "model_module_version": "1.2.0",
          "state": {
            "_model_module": "@jupyter-widgets/base",
            "_model_module_version": "1.2.0",
            "_model_name": "LayoutModel",
            "_view_count": null,
            "_view_module": "@jupyter-widgets/base",
            "_view_module_version": "1.2.0",
            "_view_name": "LayoutView",
            "align_content": null,
            "align_items": null,
            "align_self": null,
            "border": null,
            "bottom": null,
            "display": null,
            "flex": null,
            "flex_flow": null,
            "grid_area": null,
            "grid_auto_columns": null,
            "grid_auto_flow": null,
            "grid_auto_rows": null,
            "grid_column": null,
            "grid_gap": null,
            "grid_row": null,
            "grid_template_areas": null,
            "grid_template_columns": null,
            "grid_template_rows": null,
            "height": null,
            "justify_content": null,
            "justify_items": null,
            "left": null,
            "margin": null,
            "max_height": null,
            "max_width": null,
            "min_height": null,
            "min_width": null,
            "object_fit": null,
            "object_position": null,
            "order": null,
            "overflow": null,
            "overflow_x": null,
            "overflow_y": null,
            "padding": null,
            "right": null,
            "top": null,
            "visibility": null,
            "width": null
          }
        },
        "54b2acf1cd834958be22cec1ee89b3bd": {
          "model_module": "@jupyter-widgets/controls",
          "model_name": "DescriptionStyleModel",
          "model_module_version": "1.5.0",
          "state": {
            "_model_module": "@jupyter-widgets/controls",
            "_model_module_version": "1.5.0",
            "_model_name": "DescriptionStyleModel",
            "_view_count": null,
            "_view_module": "@jupyter-widgets/base",
            "_view_module_version": "1.2.0",
            "_view_name": "StyleView",
            "description_width": ""
          }
        },
        "e7896f87a5154898922c77f7fa592bf0": {
          "model_module": "@jupyter-widgets/base",
          "model_name": "LayoutModel",
          "model_module_version": "1.2.0",
          "state": {
            "_model_module": "@jupyter-widgets/base",
            "_model_module_version": "1.2.0",
            "_model_name": "LayoutModel",
            "_view_count": null,
            "_view_module": "@jupyter-widgets/base",
            "_view_module_version": "1.2.0",
            "_view_name": "LayoutView",
            "align_content": null,
            "align_items": null,
            "align_self": null,
            "border": null,
            "bottom": null,
            "display": null,
            "flex": null,
            "flex_flow": null,
            "grid_area": null,
            "grid_auto_columns": null,
            "grid_auto_flow": null,
            "grid_auto_rows": null,
            "grid_column": null,
            "grid_gap": null,
            "grid_row": null,
            "grid_template_areas": null,
            "grid_template_columns": null,
            "grid_template_rows": null,
            "height": null,
            "justify_content": null,
            "justify_items": null,
            "left": null,
            "margin": null,
            "max_height": null,
            "max_width": null,
            "min_height": null,
            "min_width": null,
            "object_fit": null,
            "object_position": null,
            "order": null,
            "overflow": null,
            "overflow_x": null,
            "overflow_y": null,
            "padding": null,
            "right": null,
            "top": null,
            "visibility": null,
            "width": "20px"
          }
        },
        "39814f5eea3d4529ba21de0fee2c39cc": {
          "model_module": "@jupyter-widgets/controls",
          "model_name": "ProgressStyleModel",
          "model_module_version": "1.5.0",
          "state": {
            "_model_module": "@jupyter-widgets/controls",
            "_model_module_version": "1.5.0",
            "_model_name": "ProgressStyleModel",
            "_view_count": null,
            "_view_module": "@jupyter-widgets/base",
            "_view_module_version": "1.2.0",
            "_view_name": "StyleView",
            "bar_color": null,
            "description_width": ""
          }
        },
        "c1ae7733222a4191a59cd3d930dc433f": {
          "model_module": "@jupyter-widgets/base",
          "model_name": "LayoutModel",
          "model_module_version": "1.2.0",
          "state": {
            "_model_module": "@jupyter-widgets/base",
            "_model_module_version": "1.2.0",
            "_model_name": "LayoutModel",
            "_view_count": null,
            "_view_module": "@jupyter-widgets/base",
            "_view_module_version": "1.2.0",
            "_view_name": "LayoutView",
            "align_content": null,
            "align_items": null,
            "align_self": null,
            "border": null,
            "bottom": null,
            "display": null,
            "flex": null,
            "flex_flow": null,
            "grid_area": null,
            "grid_auto_columns": null,
            "grid_auto_flow": null,
            "grid_auto_rows": null,
            "grid_column": null,
            "grid_gap": null,
            "grid_row": null,
            "grid_template_areas": null,
            "grid_template_columns": null,
            "grid_template_rows": null,
            "height": null,
            "justify_content": null,
            "justify_items": null,
            "left": null,
            "margin": null,
            "max_height": null,
            "max_width": null,
            "min_height": null,
            "min_width": null,
            "object_fit": null,
            "object_position": null,
            "order": null,
            "overflow": null,
            "overflow_x": null,
            "overflow_y": null,
            "padding": null,
            "right": null,
            "top": null,
            "visibility": null,
            "width": null
          }
        },
        "ee1f54aaa74344a9ae49c7f2b96f0f23": {
          "model_module": "@jupyter-widgets/controls",
          "model_name": "DescriptionStyleModel",
          "model_module_version": "1.5.0",
          "state": {
            "_model_module": "@jupyter-widgets/controls",
            "_model_module_version": "1.5.0",
            "_model_name": "DescriptionStyleModel",
            "_view_count": null,
            "_view_module": "@jupyter-widgets/base",
            "_view_module_version": "1.2.0",
            "_view_name": "StyleView",
            "description_width": ""
          }
        },
        "ec453da5c0914b7dba997dff22db5aae": {
          "model_module": "@jupyter-widgets/controls",
          "model_name": "HBoxModel",
          "model_module_version": "1.5.0",
          "state": {
            "_dom_classes": [],
            "_model_module": "@jupyter-widgets/controls",
            "_model_module_version": "1.5.0",
            "_model_name": "HBoxModel",
            "_view_count": null,
            "_view_module": "@jupyter-widgets/controls",
            "_view_module_version": "1.5.0",
            "_view_name": "HBoxView",
            "box_style": "",
            "children": [
              "IPY_MODEL_0449917b554e4353a1b34d8c87a89625",
              "IPY_MODEL_31880cd22da0407d94bce7c3b08324d7",
              "IPY_MODEL_e1c330e737ff4b56838afcf74edb9208"
            ],
            "layout": "IPY_MODEL_5ceee823d78d4d28998770baf0a94722"
          }
        },
        "0449917b554e4353a1b34d8c87a89625": {
          "model_module": "@jupyter-widgets/controls",
          "model_name": "HTMLModel",
          "model_module_version": "1.5.0",
          "state": {
            "_dom_classes": [],
            "_model_module": "@jupyter-widgets/controls",
            "_model_module_version": "1.5.0",
            "_model_name": "HTMLModel",
            "_view_count": null,
            "_view_module": "@jupyter-widgets/controls",
            "_view_module_version": "1.5.0",
            "_view_name": "HTMLView",
            "description": "",
            "description_tooltip": null,
            "layout": "IPY_MODEL_9e73eb65152e499f849a7880e238d9eb",
            "placeholder": "​",
            "style": "IPY_MODEL_ea8b81777cee4fd996922e422d251920",
            "value": "Map: 100%"
          }
        },
        "31880cd22da0407d94bce7c3b08324d7": {
          "model_module": "@jupyter-widgets/controls",
          "model_name": "FloatProgressModel",
          "model_module_version": "1.5.0",
          "state": {
            "_dom_classes": [],
            "_model_module": "@jupyter-widgets/controls",
            "_model_module_version": "1.5.0",
            "_model_name": "FloatProgressModel",
            "_view_count": null,
            "_view_module": "@jupyter-widgets/controls",
            "_view_module_version": "1.5.0",
            "_view_name": "ProgressView",
            "bar_style": "success",
            "description": "",
            "description_tooltip": null,
            "layout": "IPY_MODEL_b14eb109f7ca42dfa94da4e700b9dee4",
            "max": 128994,
            "min": 0,
            "orientation": "horizontal",
            "style": "IPY_MODEL_9ca4633559c442b6af991ded6b107c24",
            "value": 128994
          }
        },
        "e1c330e737ff4b56838afcf74edb9208": {
          "model_module": "@jupyter-widgets/controls",
          "model_name": "HTMLModel",
          "model_module_version": "1.5.0",
          "state": {
            "_dom_classes": [],
            "_model_module": "@jupyter-widgets/controls",
            "_model_module_version": "1.5.0",
            "_model_name": "HTMLModel",
            "_view_count": null,
            "_view_module": "@jupyter-widgets/controls",
            "_view_module_version": "1.5.0",
            "_view_name": "HTMLView",
            "description": "",
            "description_tooltip": null,
            "layout": "IPY_MODEL_34ee44f5232f48808abae334e3fb0ce0",
            "placeholder": "​",
            "style": "IPY_MODEL_bfe8e7be657b492b846e0f63975f2c27",
            "value": " 128994/128994 [00:15&lt;00:00, 8779.22 examples/s]"
          }
        },
        "5ceee823d78d4d28998770baf0a94722": {
          "model_module": "@jupyter-widgets/base",
          "model_name": "LayoutModel",
          "model_module_version": "1.2.0",
          "state": {
            "_model_module": "@jupyter-widgets/base",
            "_model_module_version": "1.2.0",
            "_model_name": "LayoutModel",
            "_view_count": null,
            "_view_module": "@jupyter-widgets/base",
            "_view_module_version": "1.2.0",
            "_view_name": "LayoutView",
            "align_content": null,
            "align_items": null,
            "align_self": null,
            "border": null,
            "bottom": null,
            "display": null,
            "flex": null,
            "flex_flow": null,
            "grid_area": null,
            "grid_auto_columns": null,
            "grid_auto_flow": null,
            "grid_auto_rows": null,
            "grid_column": null,
            "grid_gap": null,
            "grid_row": null,
            "grid_template_areas": null,
            "grid_template_columns": null,
            "grid_template_rows": null,
            "height": null,
            "justify_content": null,
            "justify_items": null,
            "left": null,
            "margin": null,
            "max_height": null,
            "max_width": null,
            "min_height": null,
            "min_width": null,
            "object_fit": null,
            "object_position": null,
            "order": null,
            "overflow": null,
            "overflow_x": null,
            "overflow_y": null,
            "padding": null,
            "right": null,
            "top": null,
            "visibility": null,
            "width": null
          }
        },
        "9e73eb65152e499f849a7880e238d9eb": {
          "model_module": "@jupyter-widgets/base",
          "model_name": "LayoutModel",
          "model_module_version": "1.2.0",
          "state": {
            "_model_module": "@jupyter-widgets/base",
            "_model_module_version": "1.2.0",
            "_model_name": "LayoutModel",
            "_view_count": null,
            "_view_module": "@jupyter-widgets/base",
            "_view_module_version": "1.2.0",
            "_view_name": "LayoutView",
            "align_content": null,
            "align_items": null,
            "align_self": null,
            "border": null,
            "bottom": null,
            "display": null,
            "flex": null,
            "flex_flow": null,
            "grid_area": null,
            "grid_auto_columns": null,
            "grid_auto_flow": null,
            "grid_auto_rows": null,
            "grid_column": null,
            "grid_gap": null,
            "grid_row": null,
            "grid_template_areas": null,
            "grid_template_columns": null,
            "grid_template_rows": null,
            "height": null,
            "justify_content": null,
            "justify_items": null,
            "left": null,
            "margin": null,
            "max_height": null,
            "max_width": null,
            "min_height": null,
            "min_width": null,
            "object_fit": null,
            "object_position": null,
            "order": null,
            "overflow": null,
            "overflow_x": null,
            "overflow_y": null,
            "padding": null,
            "right": null,
            "top": null,
            "visibility": null,
            "width": null
          }
        },
        "ea8b81777cee4fd996922e422d251920": {
          "model_module": "@jupyter-widgets/controls",
          "model_name": "DescriptionStyleModel",
          "model_module_version": "1.5.0",
          "state": {
            "_model_module": "@jupyter-widgets/controls",
            "_model_module_version": "1.5.0",
            "_model_name": "DescriptionStyleModel",
            "_view_count": null,
            "_view_module": "@jupyter-widgets/base",
            "_view_module_version": "1.2.0",
            "_view_name": "StyleView",
            "description_width": ""
          }
        },
        "b14eb109f7ca42dfa94da4e700b9dee4": {
          "model_module": "@jupyter-widgets/base",
          "model_name": "LayoutModel",
          "model_module_version": "1.2.0",
          "state": {
            "_model_module": "@jupyter-widgets/base",
            "_model_module_version": "1.2.0",
            "_model_name": "LayoutModel",
            "_view_count": null,
            "_view_module": "@jupyter-widgets/base",
            "_view_module_version": "1.2.0",
            "_view_name": "LayoutView",
            "align_content": null,
            "align_items": null,
            "align_self": null,
            "border": null,
            "bottom": null,
            "display": null,
            "flex": null,
            "flex_flow": null,
            "grid_area": null,
            "grid_auto_columns": null,
            "grid_auto_flow": null,
            "grid_auto_rows": null,
            "grid_column": null,
            "grid_gap": null,
            "grid_row": null,
            "grid_template_areas": null,
            "grid_template_columns": null,
            "grid_template_rows": null,
            "height": null,
            "justify_content": null,
            "justify_items": null,
            "left": null,
            "margin": null,
            "max_height": null,
            "max_width": null,
            "min_height": null,
            "min_width": null,
            "object_fit": null,
            "object_position": null,
            "order": null,
            "overflow": null,
            "overflow_x": null,
            "overflow_y": null,
            "padding": null,
            "right": null,
            "top": null,
            "visibility": null,
            "width": null
          }
        },
        "9ca4633559c442b6af991ded6b107c24": {
          "model_module": "@jupyter-widgets/controls",
          "model_name": "ProgressStyleModel",
          "model_module_version": "1.5.0",
          "state": {
            "_model_module": "@jupyter-widgets/controls",
            "_model_module_version": "1.5.0",
            "_model_name": "ProgressStyleModel",
            "_view_count": null,
            "_view_module": "@jupyter-widgets/base",
            "_view_module_version": "1.2.0",
            "_view_name": "StyleView",
            "bar_color": null,
            "description_width": ""
          }
        },
        "34ee44f5232f48808abae334e3fb0ce0": {
          "model_module": "@jupyter-widgets/base",
          "model_name": "LayoutModel",
          "model_module_version": "1.2.0",
          "state": {
            "_model_module": "@jupyter-widgets/base",
            "_model_module_version": "1.2.0",
            "_model_name": "LayoutModel",
            "_view_count": null,
            "_view_module": "@jupyter-widgets/base",
            "_view_module_version": "1.2.0",
            "_view_name": "LayoutView",
            "align_content": null,
            "align_items": null,
            "align_self": null,
            "border": null,
            "bottom": null,
            "display": null,
            "flex": null,
            "flex_flow": null,
            "grid_area": null,
            "grid_auto_columns": null,
            "grid_auto_flow": null,
            "grid_auto_rows": null,
            "grid_column": null,
            "grid_gap": null,
            "grid_row": null,
            "grid_template_areas": null,
            "grid_template_columns": null,
            "grid_template_rows": null,
            "height": null,
            "justify_content": null,
            "justify_items": null,
            "left": null,
            "margin": null,
            "max_height": null,
            "max_width": null,
            "min_height": null,
            "min_width": null,
            "object_fit": null,
            "object_position": null,
            "order": null,
            "overflow": null,
            "overflow_x": null,
            "overflow_y": null,
            "padding": null,
            "right": null,
            "top": null,
            "visibility": null,
            "width": null
          }
        },
        "bfe8e7be657b492b846e0f63975f2c27": {
          "model_module": "@jupyter-widgets/controls",
          "model_name": "DescriptionStyleModel",
          "model_module_version": "1.5.0",
          "state": {
            "_model_module": "@jupyter-widgets/controls",
            "_model_module_version": "1.5.0",
            "_model_name": "DescriptionStyleModel",
            "_view_count": null,
            "_view_module": "@jupyter-widgets/base",
            "_view_module_version": "1.2.0",
            "_view_name": "StyleView",
            "description_width": ""
          }
        },
        "92d0535090464dc5a1992a2d68c1ab72": {
          "model_module": "@jupyter-widgets/controls",
          "model_name": "HBoxModel",
          "model_module_version": "1.5.0",
          "state": {
            "_dom_classes": [],
            "_model_module": "@jupyter-widgets/controls",
            "_model_module_version": "1.5.0",
            "_model_name": "HBoxModel",
            "_view_count": null,
            "_view_module": "@jupyter-widgets/controls",
            "_view_module_version": "1.5.0",
            "_view_name": "HBoxView",
            "box_style": "",
            "children": [
              "IPY_MODEL_6032efba57704d8ca6088c20bc5d8195",
              "IPY_MODEL_a6e9d614877545c8835262b27060fa14",
              "IPY_MODEL_0612a315033d4734835bc73f6fdc55a4"
            ],
            "layout": "IPY_MODEL_3f67567b6b2d4b2fb395fbdfb7b4173a"
          }
        },
        "6032efba57704d8ca6088c20bc5d8195": {
          "model_module": "@jupyter-widgets/controls",
          "model_name": "HTMLModel",
          "model_module_version": "1.5.0",
          "state": {
            "_dom_classes": [],
            "_model_module": "@jupyter-widgets/controls",
            "_model_module_version": "1.5.0",
            "_model_name": "HTMLModel",
            "_view_count": null,
            "_view_module": "@jupyter-widgets/controls",
            "_view_module_version": "1.5.0",
            "_view_name": "HTMLView",
            "description": "",
            "description_tooltip": null,
            "layout": "IPY_MODEL_78330a00abb7412f9005ae0da4def124",
            "placeholder": "​",
            "style": "IPY_MODEL_51b253b1ae9d4c1884957f06f6c5222a",
            "value": "Map: 100%"
          }
        },
        "a6e9d614877545c8835262b27060fa14": {
          "model_module": "@jupyter-widgets/controls",
          "model_name": "FloatProgressModel",
          "model_module_version": "1.5.0",
          "state": {
            "_dom_classes": [],
            "_model_module": "@jupyter-widgets/controls",
            "_model_module_version": "1.5.0",
            "_model_name": "FloatProgressModel",
            "_view_count": null,
            "_view_module": "@jupyter-widgets/controls",
            "_view_module_version": "1.5.0",
            "_view_name": "ProgressView",
            "bar_style": "success",
            "description": "",
            "description_tooltip": null,
            "layout": "IPY_MODEL_ea531ace94624871aeeded9409ef52c4",
            "max": 14333,
            "min": 0,
            "orientation": "horizontal",
            "style": "IPY_MODEL_1a6a5488706d41b28c03ad37e3a7d62f",
            "value": 14333
          }
        },
        "0612a315033d4734835bc73f6fdc55a4": {
          "model_module": "@jupyter-widgets/controls",
          "model_name": "HTMLModel",
          "model_module_version": "1.5.0",
          "state": {
            "_dom_classes": [],
            "_model_module": "@jupyter-widgets/controls",
            "_model_module_version": "1.5.0",
            "_model_name": "HTMLModel",
            "_view_count": null,
            "_view_module": "@jupyter-widgets/controls",
            "_view_module_version": "1.5.0",
            "_view_name": "HTMLView",
            "description": "",
            "description_tooltip": null,
            "layout": "IPY_MODEL_13533260c84949eba6900c1558918673",
            "placeholder": "​",
            "style": "IPY_MODEL_be40f33feeba44aea11445af8b9490ed",
            "value": " 14333/14333 [00:01&lt;00:00, 8657.71 examples/s]"
          }
        },
        "3f67567b6b2d4b2fb395fbdfb7b4173a": {
          "model_module": "@jupyter-widgets/base",
          "model_name": "LayoutModel",
          "model_module_version": "1.2.0",
          "state": {
            "_model_module": "@jupyter-widgets/base",
            "_model_module_version": "1.2.0",
            "_model_name": "LayoutModel",
            "_view_count": null,
            "_view_module": "@jupyter-widgets/base",
            "_view_module_version": "1.2.0",
            "_view_name": "LayoutView",
            "align_content": null,
            "align_items": null,
            "align_self": null,
            "border": null,
            "bottom": null,
            "display": null,
            "flex": null,
            "flex_flow": null,
            "grid_area": null,
            "grid_auto_columns": null,
            "grid_auto_flow": null,
            "grid_auto_rows": null,
            "grid_column": null,
            "grid_gap": null,
            "grid_row": null,
            "grid_template_areas": null,
            "grid_template_columns": null,
            "grid_template_rows": null,
            "height": null,
            "justify_content": null,
            "justify_items": null,
            "left": null,
            "margin": null,
            "max_height": null,
            "max_width": null,
            "min_height": null,
            "min_width": null,
            "object_fit": null,
            "object_position": null,
            "order": null,
            "overflow": null,
            "overflow_x": null,
            "overflow_y": null,
            "padding": null,
            "right": null,
            "top": null,
            "visibility": null,
            "width": null
          }
        },
        "78330a00abb7412f9005ae0da4def124": {
          "model_module": "@jupyter-widgets/base",
          "model_name": "LayoutModel",
          "model_module_version": "1.2.0",
          "state": {
            "_model_module": "@jupyter-widgets/base",
            "_model_module_version": "1.2.0",
            "_model_name": "LayoutModel",
            "_view_count": null,
            "_view_module": "@jupyter-widgets/base",
            "_view_module_version": "1.2.0",
            "_view_name": "LayoutView",
            "align_content": null,
            "align_items": null,
            "align_self": null,
            "border": null,
            "bottom": null,
            "display": null,
            "flex": null,
            "flex_flow": null,
            "grid_area": null,
            "grid_auto_columns": null,
            "grid_auto_flow": null,
            "grid_auto_rows": null,
            "grid_column": null,
            "grid_gap": null,
            "grid_row": null,
            "grid_template_areas": null,
            "grid_template_columns": null,
            "grid_template_rows": null,
            "height": null,
            "justify_content": null,
            "justify_items": null,
            "left": null,
            "margin": null,
            "max_height": null,
            "max_width": null,
            "min_height": null,
            "min_width": null,
            "object_fit": null,
            "object_position": null,
            "order": null,
            "overflow": null,
            "overflow_x": null,
            "overflow_y": null,
            "padding": null,
            "right": null,
            "top": null,
            "visibility": null,
            "width": null
          }
        },
        "51b253b1ae9d4c1884957f06f6c5222a": {
          "model_module": "@jupyter-widgets/controls",
          "model_name": "DescriptionStyleModel",
          "model_module_version": "1.5.0",
          "state": {
            "_model_module": "@jupyter-widgets/controls",
            "_model_module_version": "1.5.0",
            "_model_name": "DescriptionStyleModel",
            "_view_count": null,
            "_view_module": "@jupyter-widgets/base",
            "_view_module_version": "1.2.0",
            "_view_name": "StyleView",
            "description_width": ""
          }
        },
        "ea531ace94624871aeeded9409ef52c4": {
          "model_module": "@jupyter-widgets/base",
          "model_name": "LayoutModel",
          "model_module_version": "1.2.0",
          "state": {
            "_model_module": "@jupyter-widgets/base",
            "_model_module_version": "1.2.0",
            "_model_name": "LayoutModel",
            "_view_count": null,
            "_view_module": "@jupyter-widgets/base",
            "_view_module_version": "1.2.0",
            "_view_name": "LayoutView",
            "align_content": null,
            "align_items": null,
            "align_self": null,
            "border": null,
            "bottom": null,
            "display": null,
            "flex": null,
            "flex_flow": null,
            "grid_area": null,
            "grid_auto_columns": null,
            "grid_auto_flow": null,
            "grid_auto_rows": null,
            "grid_column": null,
            "grid_gap": null,
            "grid_row": null,
            "grid_template_areas": null,
            "grid_template_columns": null,
            "grid_template_rows": null,
            "height": null,
            "justify_content": null,
            "justify_items": null,
            "left": null,
            "margin": null,
            "max_height": null,
            "max_width": null,
            "min_height": null,
            "min_width": null,
            "object_fit": null,
            "object_position": null,
            "order": null,
            "overflow": null,
            "overflow_x": null,
            "overflow_y": null,
            "padding": null,
            "right": null,
            "top": null,
            "visibility": null,
            "width": null
          }
        },
        "1a6a5488706d41b28c03ad37e3a7d62f": {
          "model_module": "@jupyter-widgets/controls",
          "model_name": "ProgressStyleModel",
          "model_module_version": "1.5.0",
          "state": {
            "_model_module": "@jupyter-widgets/controls",
            "_model_module_version": "1.5.0",
            "_model_name": "ProgressStyleModel",
            "_view_count": null,
            "_view_module": "@jupyter-widgets/base",
            "_view_module_version": "1.2.0",
            "_view_name": "StyleView",
            "bar_color": null,
            "description_width": ""
          }
        },
        "13533260c84949eba6900c1558918673": {
          "model_module": "@jupyter-widgets/base",
          "model_name": "LayoutModel",
          "model_module_version": "1.2.0",
          "state": {
            "_model_module": "@jupyter-widgets/base",
            "_model_module_version": "1.2.0",
            "_model_name": "LayoutModel",
            "_view_count": null,
            "_view_module": "@jupyter-widgets/base",
            "_view_module_version": "1.2.0",
            "_view_name": "LayoutView",
            "align_content": null,
            "align_items": null,
            "align_self": null,
            "border": null,
            "bottom": null,
            "display": null,
            "flex": null,
            "flex_flow": null,
            "grid_area": null,
            "grid_auto_columns": null,
            "grid_auto_flow": null,
            "grid_auto_rows": null,
            "grid_column": null,
            "grid_gap": null,
            "grid_row": null,
            "grid_template_areas": null,
            "grid_template_columns": null,
            "grid_template_rows": null,
            "height": null,
            "justify_content": null,
            "justify_items": null,
            "left": null,
            "margin": null,
            "max_height": null,
            "max_width": null,
            "min_height": null,
            "min_width": null,
            "object_fit": null,
            "object_position": null,
            "order": null,
            "overflow": null,
            "overflow_x": null,
            "overflow_y": null,
            "padding": null,
            "right": null,
            "top": null,
            "visibility": null,
            "width": null
          }
        },
        "be40f33feeba44aea11445af8b9490ed": {
          "model_module": "@jupyter-widgets/controls",
          "model_name": "DescriptionStyleModel",
          "model_module_version": "1.5.0",
          "state": {
            "_model_module": "@jupyter-widgets/controls",
            "_model_module_version": "1.5.0",
            "_model_name": "DescriptionStyleModel",
            "_view_count": null,
            "_view_module": "@jupyter-widgets/base",
            "_view_module_version": "1.2.0",
            "_view_name": "StyleView",
            "description_width": ""
          }
        }
      }
    }
  },
  "cells": [
    {
      "cell_type": "code",
      "execution_count": null,
      "metadata": {
        "id": "EiKsJ3g2TXVu"
      },
      "outputs": [],
      "source": [
        "%pip install llama-index-llms-gradient\n",
        "%pip install llama-index-finetuning\n",
        "!pip install llama-index gradientai -q\n",
        "!pip install datasets -q\n",
        "!pip install --upgrade pyarrow datasets\n",
        "!pip install --force-reinstall llama-index[gradient]"
      ]
    },
    {
      "cell_type": "code",
      "source": [
        "import os\n",
        "from llama_index.llms.gradient import GradientBaseModelLLM, GradientModelAdapterLLM\n",
        "from llama_index.finetuning import GradientFinetuneEngine"
      ],
      "metadata": {
        "id": "XmsNIQmNd-w-"
      },
      "execution_count": null,
      "outputs": []
    },
    {
      "cell_type": "code",
      "source": [
        "os.environ[\"GRADIENT_ACCESS_TOKEN\"] = \"mbrslo7W62CipAM5a6YC4GAg2N5gxoRG\"\n",
        "os.environ[\"GRADIENT_WORKSPACE_ID\"] = \"cc607960-b59f-4beb-98ae-8eac267b88a9_workspace\""
      ],
      "metadata": {
        "id": "AoX7j29geTOj"
      },
      "execution_count": null,
      "outputs": []
    },
    {
      "cell_type": "code",
      "source": [
        "from datasets import load_dataset\n",
        "from pathlib import Path\n",
        "import json\n",
        "\n",
        "\n",
        "def load_jsonl(data_dir):\n",
        "    data_path = Path(data_dir).as_posix()\n",
        "    data = load_dataset(\"json\", data_files=data_path)\n",
        "    return data\n",
        "\n",
        "\n",
        "def save_jsonl(data_dicts, out_path):\n",
        "    with open(out_path, \"w\") as fp:\n",
        "        for data_dict in data_dicts:\n",
        "            fp.write(json.dumps(data_dict) + \"\\n\")\n",
        "\n",
        "\n",
        "def load_data_sql(data_dir: str = \"genereic_python_code\"):\n",
        "    dataset = load_dataset(\"Vezora/Tested-143k-Python-Alpaca\")\n",
        "\n",
        "    dataset_splits = {\"train\": dataset[\"train\"]}\n",
        "    out_path = Path(data_dir)\n",
        "\n",
        "    out_path.parent.mkdir(parents=True, exist_ok=True)\n",
        "\n",
        "    for key, ds in dataset_splits.items():\n",
        "        with open(out_path, \"w\") as f:\n",
        "            for item in ds:\n",
        "                newitem = {\n",
        "                    \"instruction\": item[\"instruction\"],\n",
        "                    \"input\": item[\"input\"],\n",
        "                    \"output\": item[\"output\"],\n",
        "                }\n",
        "                f.write(json.dumps(newitem) + \"\\n\")"
      ],
      "metadata": {
        "id": "MPbxWuj4eefU"
      },
      "execution_count": null,
      "outputs": []
    },
    {
      "cell_type": "code",
      "source": [
        "load_data_sql(data_dir=\"generic_python_code\")"
      ],
      "metadata": {
        "id": "5reZk89QfITP"
      },
      "execution_count": null,
      "outputs": []
    },
    {
      "cell_type": "code",
      "source": [
        "from math import ceil\n",
        "\n",
        "\n",
        "def get_train_val_splits(\n",
        "    data_dir: str = \"generic_python_code\",\n",
        "    val_ratio: float = 0.1,\n",
        "    seed: int = 42,\n",
        "    shuffle: bool = True,\n",
        "):\n",
        "    data = load_jsonl(data_dir)\n",
        "    num_samples = len(data[\"train\"])\n",
        "    val_set_size = ceil(val_ratio * num_samples)\n",
        "\n",
        "    train_val = data[\"train\"].train_test_split(\n",
        "        test_size=val_set_size, shuffle=shuffle, seed=seed\n",
        "    )\n",
        "    return train_val[\"train\"].shuffle(), train_val[\"test\"].shuffle()"
      ],
      "metadata": {
        "id": "QxY1XKakhpmz"
      },
      "execution_count": null,
      "outputs": []
    },
    {
      "cell_type": "code",
      "source": [
        "raw_train_data, raw_val_data = get_train_val_splits(data_dir=\"generic_python_code\")\n",
        "save_jsonl(raw_train_data, \"train_data_raw.jsonl\")\n",
        "save_jsonl(raw_val_data, \"val_data_raw.jsonl\")"
      ],
      "metadata": {
        "colab": {
          "base_uri": "https://localhost:8080/",
          "height": 49,
          "referenced_widgets": [
            "d6b80be975564d3782184f66c5a3c5d8",
            "f93e461f96eb4b2690bd006509724f78",
            "fc72a6bd9632432abdeb3f81901afe54",
            "9e8fd031b1f9424bb5c3c7a16dba7e3e",
            "f5eb6bd19b1647d9bc7ddb1ef1b5a0d3",
            "b80f391b9c7b4832965cd4d4df5a5235",
            "54b2acf1cd834958be22cec1ee89b3bd",
            "e7896f87a5154898922c77f7fa592bf0",
            "39814f5eea3d4529ba21de0fee2c39cc",
            "c1ae7733222a4191a59cd3d930dc433f",
            "ee1f54aaa74344a9ae49c7f2b96f0f23"
          ]
        },
        "id": "f0RF3cjCiXOe",
        "outputId": "35e28398-3bf5-40ea-9132-e7638b3f1d1a"
      },
      "execution_count": null,
      "outputs": [
        {
          "output_type": "display_data",
          "data": {
            "text/plain": [
              "Generating train split: 0 examples [00:00, ? examples/s]"
            ],
            "application/vnd.jupyter.widget-view+json": {
              "version_major": 2,
              "version_minor": 0,
              "model_id": "d6b80be975564d3782184f66c5a3c5d8"
            }
          },
          "metadata": {}
        }
      ]
    },
    {
      "cell_type": "code",
      "source": [
        "raw_train_data[100]"
      ],
      "metadata": {
        "colab": {
          "base_uri": "https://localhost:8080/"
        },
        "id": "VNgMkOEkieiu",
        "outputId": "8f23f05b-4a7d-4c3d-eb35-f88bdf06cfaf"
      },
      "execution_count": null,
      "outputs": [
        {
          "output_type": "execute_result",
          "data": {
            "text/plain": [
              "{'instruction': \"How can I retrieve the third element from multiple Python arrays, which are embedded within dictionaries, and combine these elements to create a new list?\\n\\nDictionaries format:\\n{'Array1': [1,2,3,4,5], 'Array2':[6,7,8,9,10], 'Array3':[11,12,13,14,15]}\",\n",
              " 'input': '',\n",
              " 'output': 'In Python, the arrays are commonly referred to as lists, and the \"tertiary constituent\" simply means the third element in each list. To solve this problem, you can use the following code:\\n\\n```python\\n# Define the input\\narrays = {\\'Array1\\': [1,2,3,4,5], \\'Array2\\':[6,7,8,9,10], \\'Array3\\':[11,12,13,14,15]}\\n# Extract the third (tertiary) item from each array and store it in a new list\\ntertiary_items = [array[2] for array in arrays.values()]\\nprint(tertiary_items)\\n```\\n\\nThis code will give you the desired output: `[3, 8, 13]`, which represents the third elements from each list in the example dictionary.\\n\\nHere\\'s a breakdown of the code\\'s functionality:\\n1. The dictionaries with the arrays are defined.\\n2. A list comprehension is used to iterate over the values of the dictionary (which are the lists).\\n3. For each list, the code selects the third item (at index 2, considering Python\\'s zero-based indexing) and adds it to the new list called `tertiary_items`.\\n4. Finally, the resulting list is printed.\\n\\nFeel free to modify the code as per your requirements or ask for further clarification.'}"
            ]
          },
          "metadata": {},
          "execution_count": 29
        }
      ]
    },
    {
      "cell_type": "code",
      "source": [
        "text_to_code_tmpl_str = \"\"\"\\\n",
        "<s>### Instruction:\\n{system_message}{user_message}\\n\\n### Response:\\n{response}</s>\"\"\"\n",
        "\n",
        "text_to_code_inference_tmpl_str = \"\"\"\\\n",
        "<s>### Instruction:\\n{system_message}{user_message}\\n\\n### Response:\\n\"\"\"\n",
        "\n",
        "def _generate_prompt_code(input, instruction, output=\"\"):\n",
        "    system_message = f\"\"\"You are a powerful text-to-python code model. Your job is to answer questions according to the instructions given. Use the input if mentioned.\n",
        "\n",
        "You must output the python code that answers the question.\n",
        "\n",
        "    \"\"\"\n",
        "    user_message = f\"\"\"\n",
        "\n",
        "### Input:\n",
        "{input}\n",
        "\n",
        "### Instruction:\n",
        "{instruction}\n",
        "\n",
        "### Response:\n",
        "\"\"\"\n",
        "    if output:\n",
        "        return text_to_code_tmpl_str.format(\n",
        "            system_message=system_message,\n",
        "            user_message=user_message,\n",
        "            response=output,\n",
        "        )\n",
        "    else:\n",
        "        return text_to_code_inference_tmpl_str.format(\n",
        "            system_message=system_message, user_message=user_message\n",
        "        )\n",
        "\n",
        "def generate_prompt(data_point):\n",
        "    full_prompt = _generate_prompt_code(\n",
        "        data_point[\"input\"],\n",
        "        data_point[\"instruction\"],\n",
        "        output=data_point[\"output\"],\n",
        "    )\n",
        "    return {\"inputs\": full_prompt}"
      ],
      "metadata": {
        "id": "5m1T0GB_isct"
      },
      "execution_count": null,
      "outputs": []
    },
    {
      "cell_type": "code",
      "source": [
        "train_data = []\n",
        "val_data = []\n",
        "for d in raw_train_data.map(generate_prompt):\n",
        "  train_data.append({\"inputs\": d[\"inputs\"]})\n",
        "save_jsonl(train_data, \"train_data.jsonl\")\n",
        "\n",
        "for d in raw_val_data.map(generate_prompt):\n",
        "  val_data.append({\"inputs\": d[\"inputs\"]})\n",
        "save_jsonl(val_data, \"val_data.jsonl\")"
      ],
      "metadata": {
        "colab": {
          "base_uri": "https://localhost:8080/",
          "height": 81,
          "referenced_widgets": [
            "ec453da5c0914b7dba997dff22db5aae",
            "0449917b554e4353a1b34d8c87a89625",
            "31880cd22da0407d94bce7c3b08324d7",
            "e1c330e737ff4b56838afcf74edb9208",
            "5ceee823d78d4d28998770baf0a94722",
            "9e73eb65152e499f849a7880e238d9eb",
            "ea8b81777cee4fd996922e422d251920",
            "b14eb109f7ca42dfa94da4e700b9dee4",
            "9ca4633559c442b6af991ded6b107c24",
            "34ee44f5232f48808abae334e3fb0ce0",
            "bfe8e7be657b492b846e0f63975f2c27",
            "92d0535090464dc5a1992a2d68c1ab72",
            "6032efba57704d8ca6088c20bc5d8195",
            "a6e9d614877545c8835262b27060fa14",
            "0612a315033d4734835bc73f6fdc55a4",
            "3f67567b6b2d4b2fb395fbdfb7b4173a",
            "78330a00abb7412f9005ae0da4def124",
            "51b253b1ae9d4c1884957f06f6c5222a",
            "ea531ace94624871aeeded9409ef52c4",
            "1a6a5488706d41b28c03ad37e3a7d62f",
            "13533260c84949eba6900c1558918673",
            "be40f33feeba44aea11445af8b9490ed"
          ]
        },
        "id": "MCm6qgbwkz_n",
        "outputId": "d42a82c6-1420-4054-c862-bb932e2d6312"
      },
      "execution_count": null,
      "outputs": [
        {
          "output_type": "display_data",
          "data": {
            "text/plain": [
              "Map:   0%|          | 0/128994 [00:00<?, ? examples/s]"
            ],
            "application/vnd.jupyter.widget-view+json": {
              "version_major": 2,
              "version_minor": 0,
              "model_id": "ec453da5c0914b7dba997dff22db5aae"
            }
          },
          "metadata": {}
        },
        {
          "output_type": "display_data",
          "data": {
            "text/plain": [
              "Map:   0%|          | 0/14333 [00:00<?, ? examples/s]"
            ],
            "application/vnd.jupyter.widget-view+json": {
              "version_major": 2,
              "version_minor": 0,
              "model_id": "92d0535090464dc5a1992a2d68c1ab72"
            }
          },
          "metadata": {}
        }
      ]
    },
    {
      "cell_type": "code",
      "source": [
        "print(train_data[5][\"inputs\"])"
      ],
      "metadata": {
        "colab": {
          "base_uri": "https://localhost:8080/"
        },
        "id": "AaqXZ-8DlMnI",
        "outputId": "a0dbf445-d3dd-45bd-e433-e54bf3806288"
      },
      "execution_count": null,
      "outputs": [
        {
          "output_type": "stream",
          "name": "stdout",
          "text": [
            "<s>### Instruction:\n",
            "You are a powerful text-to-python code model. Your job is to answer questions according to the instructions given. Use the input if mentioned. \n",
            "\n",
            "You must output the python code that answers the question.\n",
            "    \n",
            "    \n",
            "\n",
            "### Input:\n",
            "\n",
            "\n",
            "### Instruction:\n",
            "You are tasked with implementing a function to calculate the elapsed time in seconds between the current time and a given start time. You are provided with a code snippet that captures the start time using the `time.time()` function. Your task is to create a function that takes the start time as an argument and returns the elapsed time in seconds.\n",
            "\n",
            "Function Signature: `def calculate_elapsed_time(start_time: float) -> float`\n",
            "\n",
            "Example:\n",
            "```\n",
            "start_time = time.time()  # Assume this captures the start time\n",
            "# Some time-consuming operations\n",
            "elapsed_time = calculate_elapsed_time(start_time)\n",
            "print(elapsed_time)  # Output: 5.23 (example value)\n",
            "```\n",
            "\n",
            "### Response:\n",
            "\n",
            "\n",
            "### Response:\n",
            "```python\n",
            "import time\n",
            "\n",
            "def calculate_elapsed_time(start_time: float) -> float:\n",
            "    current_time = time.time()\n",
            "    elapsed_time = current_time - start_time\n",
            "    return elapsed_time\n",
            "```\n",
            "The `calculate_elapsed_time` function takes the `start_time` as an argument and uses the `time.time()` function to capture the current time. It then calculates the elapsed time in seconds by subtracting the `start_time` from the `current_time` and returns the result.</s>\n"
          ]
        }
      ]
    },
    {
      "cell_type": "code",
      "source": [
        "base_model_slug = \"llama2-7b-chat\"\n",
        "base_llm = GradientBaseModelLLM(\n",
        "    base_model_slug=base_model_slug, max_tokens=300\n",
        ")"
      ],
      "metadata": {
        "id": "cA5ViQJamIVs"
      },
      "execution_count": null,
      "outputs": []
    },
    {
      "cell_type": "code",
      "source": [
        "my_model = GradientModelAdapterLLM(model_adapter_id='22e0d393-fd73-4242-b314-121740849d34_model_adapter', max_tokens = 511)"
      ],
      "metadata": {
        "id": "s2OFv2ogtqiu"
      },
      "execution_count": null,
      "outputs": []
    },
    {
      "cell_type": "code",
      "source": [
        "finetune_engine = GradientFinetuneEngine(\n",
        "    base_model_slug=base_model_slug,\n",
        "    name=\"generic_pythn_to_code\",\n",
        "    data_path=\"train_data.jsonl\",\n",
        "    verbose=True,\n",
        "    max_steps=200,\n",
        "    batch_size=4,\n",
        ")"
      ],
      "metadata": {
        "id": "Rg6psjzSoJCB"
      },
      "execution_count": null,
      "outputs": []
    },
    {
      "cell_type": "code",
      "source": [
        "finetune_engine.model_adapter_id"
      ],
      "metadata": {
        "colab": {
          "base_uri": "https://localhost:8080/",
          "height": 35
        },
        "id": "pVmXNTmOodv3",
        "outputId": "f3a49412-ba4c-43cf-9503-c05951d1da79"
      },
      "execution_count": null,
      "outputs": [
        {
          "output_type": "execute_result",
          "data": {
            "text/plain": [
              "'d7e5f7af-def8-4a43-993c-c526929b8074_model_adapter'"
            ],
            "application/vnd.google.colaboratory.intrinsic+json": {
              "type": "string"
            }
          },
          "metadata": {},
          "execution_count": 35
        }
      ]
    },
    {
      "cell_type": "code",
      "source": [
        "ft_llm = finetune_engine.get_finetuned_model(max_tokens=511)"
      ],
      "metadata": {
        "id": "F0zsbxJJojYf"
      },
      "execution_count": null,
      "outputs": []
    },
    {
      "cell_type": "code",
      "source": [
        "def get_text2code_completion(llm, raw_datapoint):\n",
        "    text2code_tmpl_str = _generate_prompt_code(\n",
        "        raw_datapoint[\"input\"],\n",
        "        raw_datapoint[\"instruction\"],\n",
        "        output=None,\n",
        "    )\n",
        "\n",
        "    response = llm.complete(text2code_tmpl_str)\n",
        "    return str(response)"
      ],
      "metadata": {
        "id": "v6rLKHPTomr1"
      },
      "execution_count": null,
      "outputs": []
    },
    {
      "cell_type": "code",
      "source": [
        "test_datapoint = raw_val_data[1]\n",
        "display(test_datapoint)"
      ],
      "metadata": {
        "colab": {
          "base_uri": "https://localhost:8080/",
          "height": 468
        },
        "id": "2AHI9xsgpLOh",
        "outputId": "e3b0f5b7-70f1-4710-f901-1985c6a73414"
      },
      "execution_count": null,
      "outputs": [
        {
          "output_type": "display_data",
          "data": {
            "text/plain": [
              "{'instruction': \"How can I implement a Depth-First Search (DFS) algorithm in Python to detect cycles in directed graphs? The graph will be provided as an adjacency matrix. I also need to report the path of the cycle if one is found. It's important that the algorithm can handle deep recursion, large inputs, and manage its memory use effectively. Additionally, it should be able to handle not just connected graphs, but also disconnected graphs. Can you provide a clean, efficient, and well-documented code solution for this?\",\n",
              " 'input': '',\n",
              " 'output': 'Sure! Here\\'s an implementation of the Depth-First Search algorithm for detecting cycles in directed graphs. The algorithm is designed to handle both connected and disconnected graphs, and it uses an adjacency matrix representation.\\n\\nFirst, I\\'ll provide you with the code for the Graph class, which includes the necessary methods to create the graph, add edges, and check for cycles:\\n\\n```python\\nclass Graph:\\n    def __init__(self, vertices):\\n        # No. of vertices\\n        self.V = vertices\\n        # Default dictionary to store graph\\n        self.graph = [[0]*vertices for _ in range(vertices)]\\n        self.path = []\\n    \\n    def add_edge(self, u, v):\\n        # add an edge to the graph\\n        self.graph[u][v] = 1\\n    \\n    def is_cyclic_util(self, v, visited, rec_stack):\\n        # Mark the current node as visited\\n        visited[v] = 1\\n        # Add to recursion stack\\n        rec_stack[v] = 1\\n \\n        # Visit all the vertices adjacent to this vertex\\n        for neighbor in range(self.V):\\n            if self.graph[v][neighbor] == 1:\\n                self.path.append(neighbor)\\n                # If the node is not visited then recurse on it\\n                if visited[neighbor] == 0:\\n                    if self.is_cyclic_util(neighbor, visited, rec_stack) == True:\\n                        return True\\n                elif rec_stack[neighbor] == 1:\\n                    # If an adjacent vertex is in the recursion stack then graph contains cycle\\n                    return True\\n\\n        # After visiting all adjacent nodes, remove the current node from the recursion stack\\n        self.path.pop()\\n        rec_stack[v] = 0\\n\\n        return False\\n\\n    # Returns true if the graph contains a cycle, else false\\n    def is_cyclic(self):\\n        # Mark all the vertices as not visited\\n        visited = [0] * (self.V)\\n\\n        # To store the recursion stack\\n        rec_stack = [0] * (self.V)\\n\\n        for node in range(self.V):\\n            self.path = [node]\\n            if visited[node] == 0:\\n                if self.is_cyclic_util(node, visited, rec_stack) == True:\\n                    print(f\"Cycle detected: {self.path}\")\\n                    return True\\n        return False\\n```\\n\\nNow, let me provide an example usage of the above code:\\n\\n```python\\ng = Graph(4)\\ng.add_edge(0, 1)\\ng.add_edge(1, 2)\\ng.add_edge(2, 3)\\ng.add_edge(3, 1)\\n \\nif g.is_cyclic() == 1:\\n    print(\"Graph contains a cycle\")\\nelse:\\n    print(\"Graph doesn\\'t contain a cycle\")\\n```\\n\\nIn this example, a graph with 4 vertices is created using the Graph class. Edges are added to the graph using the `add_edge` method. Then, the `is_cyclic` method is called to check if the graph contains a cycle. If a cycle is found, the path of the cycle is printed. Otherwise, a message indicating that the graph doesn\\'t contain a cycle is printed.\\n\\nThe DFS algorithm used in this implementation runs from every unvisited node, making it capable of handling both connected and disconnected graphs. It maintains two lists, `visited` and `rec_stack`, to keep track of visited nodes and nodes currently in the recursion stack of DFS, respectively. If a node is reached that is already in the recursion stack, it indicates the presence of a cycle.'}"
            ]
          },
          "metadata": {}
        }
      ]
    },
    {
      "cell_type": "code",
      "source": [
        "print(get_text2code_completion(base_llm, test_datapoint))"
      ],
      "metadata": {
        "colab": {
          "base_uri": "https://localhost:8080/"
        },
        "collapsed": true,
        "id": "v-iOif0vpO_d",
        "outputId": "51afecdb-03b7-44cb-cc66-a76b4cfa1a15"
      },
      "execution_count": null,
      "outputs": [
        {
          "output_type": "stream",
          "name": "stdout",
          "text": [
            " Sure, I can help you with that! Here is a Python implementation of a Depth-First Search (DFS) algorithm to detect cycles in directed graphs:\n",
            "```python\n",
            "import numpy as np\n",
            "\n",
            "def detect_cycles(graph, start=None):\n",
            "    \"\"\"\n",
            "    Detect cycles in a directed graph using Depth-First Search.\n",
            "\n",
            "    Parameters:\n",
            "    graph (numpy array): Adjacency matrix of the graph.\n",
            "    start (numpy array, optional): Starting node of the search. If None, the algorithm will start at the first unvisited node.\n",
            "\n",
            "    Returns:\n",
            "    cycle (numpy array): Path of the cycle, if found. Otherwise, None.\n",
            "    \"\"\"\n",
            "    # Initialize the visited nodes set\n",
            "    visited = set()\n",
            "\n",
            "    # Initialize the current node\n",
            "    current = start if start else np.array([0])\n",
            "\n",
            "    # Depth-First Search\n",
            "    while current != []:\n",
            "        # Unvisited nodes\n",
            "        unvisited = np.where(visited == [])[0]\n",
            "        if not unvisited.size:\n",
            "            break\n",
            "\n",
            "        # Visit the unvisited nodes\n",
            "        for node in unvisited:\n",
            "            visited.add(node)\n",
            "            # Recursively search for cycles\n",
            "            if detect_cycles(graph, node):\n",
            "                # Found a cycle\n",
            "               \n"
          ]
        }
      ]
    },
    {
      "cell_type": "code",
      "source": [
        "print(get_text2code_completion(ft_llm, test_datapoint))"
      ],
      "metadata": {
        "colab": {
          "base_uri": "https://localhost:8080/"
        },
        "collapsed": true,
        "id": "Q1oHqImQpXnP",
        "outputId": "d40a8d26-d54e-4792-dc8b-9fb0c2038420"
      },
      "execution_count": null,
      "outputs": [
        {
          "output_type": "stream",
          "name": "stdout",
          "text": [
            " Sure, I can help you with that! Here is a Python implementation of the Depth-First Search (DFS) algorithm to detect cycles in directed graphs:\n",
            "```python\n",
            "import collections\n",
            "\n",
            "def dfs_cycle_detector(graph, start):\n",
            "    \"\"\"\n",
            "    DFS algorithm to detect cycles in a directed graph.\n",
            "\n",
            "    Parameters:\n",
            "        graph (list of lists): The adjacency matrix of the graph.\n",
            "        start (int): The starting node of the DFS traversal.\n",
            "\n",
            "    Returns:\n",
            "        (list of ints, list of ints): The path of the cycle, if one is found, else None.\n",
            "    \"\"\"\n",
            "    # Initialize the stack and the current node\n",
            "    stack = [(start, {})]\n",
            "    current = start\n",
            "\n",
            "    # Perform DFS traversal\n",
            "    while stack:\n",
            "        # Pop the current node and its neighbors from the stack\n",
            "        current = stack.pop()\n",
            "        neighbors = set(graph[current])\n",
            "        for neighbor in neighbors:\n",
            "            if neighbor not in stack:\n",
            "                # If the neighbor is not already visited, mark it as visited\n",
            "                stack.append((neighbor, {current: 1}))\n",
            "\n",
            "    # Check for cycles\n",
            "    if stack:\n",
            "        # If there is a cycle, return the path\n",
            "        path = []\n",
            "        current = stack.pop()\n",
            "        while current:\n",
            "            path.append(current)\n",
            "            current = stack.pop()\n",
            "        return path\n",
            "    else:\n",
            "        # If there is no cycle, return None\n",
            "        return None\n",
            "\n",
            "# Example usage\n",
            "graph = [\n",
            "    [0, 1, 2, 3],\n",
            "    [1, 0, 4, 5],\n",
            "    [2, 4, 0, 6],\n",
            "    [3, 5, 6, 0]\n",
            "]\n",
            "start = 0\n",
            "path = dfs_cycle_detector(graph, start)\n",
            "print(path)\n",
            "```\n",
            "This implementation uses a stack to keep track of the nodes that have been visited during the DFS traversal. If a cycle is detected, the path of the cycle is returned. If no cycle is detected, None is returned.\n",
            "\n",
            "Here are some notes on the implementation:\n",
            "\n",
            "* The graph is represented as an adjacency matrix, where each\n"
          ]
        }
      ]
    },
    {
      "cell_type": "code",
      "source": [],
      "metadata": {
        "id": "6pqLWPb2qUkF"
      },
      "execution_count": null,
      "outputs": []
    }
  ]
}